{
 "cells": [
  {
   "cell_type": "code",
   "execution_count": null,
   "metadata": {},
   "outputs": [],
   "source": [
    "import sfs\n",
    "from loudspeakers import *\n",
    "from regions_interest import *\n",
    "from optimization import *\n",
    "from post_processing import *\n",
    "from utils_general import *\n",
    "from utils_nfchoa import *\n",
    "from green_function import *"
   ]
  },
  {
   "cell_type": "code",
   "execution_count": null,
   "metadata": {},
   "outputs": [],
   "source": [
    "def get_solution(method, source, loudspeakers, region_of_interest):\n",
    "    if method in {'NFC-HOA_SFS', 'WFS'}:\n",
    "        omega = 2 * np.pi * source.frq[0]\n",
    "        array = sfs.array.circular(loudspeakers.n_loud, loudspeakers.diam / 2)\n",
    "        sfs_position = np.append(source.pos - loudspeakers.diam / 2 * np.ones(2), 0)\n",
    "        if method == 'WFS':\n",
    "            if np.linalg.norm(sfs_position) >= loudspeakers.diam / 2:\n",
    "                d, s_wfs, ss_wfs = sfs.fd.wfs.point_25d(omega, array.x, array.n, sfs_position,\n",
    "                                                        xref=np.asarray([0, 0, 0]))\n",
    "            else:\n",
    "                d, s_wfs, ss_wfs = sfs.fd.wfs.focused_25d(omega, array.x, array.n, sfs_position, -sfs_position,\n",
    "                                                          xref=np.asarray([0, 0, 0]))\n",
    "            d *= s_wfs\n",
    "        else:\n",
    "            d, s_hoa, ss_hoa = sfs.fd.nfchoa.point_25d(omega, array.x, loudspeakers.diam / 2, sfs_position)\n",
    "        d = np.expand_dims(d * np.pi * loudspeakers.diam * source.int[0] / loudspeakers.n_loud, axis=0)\n",
    "        region_of_interest.initialize()\n",
    "\n",
    "    elif method == 'SWEET':\n",
    "        opt_sweet = SweetOptimization(loudspeakers, source, region_of_interest, truncation=0, penalty_norm=1,\n",
    "                                      lamb=10 ** (-10))\n",
    "        d, d_sweet_best = opt_sweet.minimize(show=False, epsilon_sequence=99)\n",
    "\n",
    "    elif method == 'L2-PMM':\n",
    "        opt_L2 = LpqOptimization(loudspeakers, source, region_of_interest, truncation=0,\n",
    "                                 penalty_norm=1, lamb=0)\n",
    "        d = opt_L2.minimize(p=2, q=2, weighted=False, constraint_type=None, show=False)\n",
    "\n",
    "    elif method == 'NFC-HOA_MANUAL':\n",
    "        sfs_normalization = np.pi * loudspeakers.diam * source.int[0] / loudspeakers.n_loud\n",
    "        centered_position = position - np.ones(2) * loudspeakers.diam / 2\n",
    "        a_l = np.linspace(0, 2 * np.pi, num=loudspeakers.n_loud, endpoint=False)\n",
    "        r_l = loudspeakers.diam / 2\n",
    "        a_s = np.arctan2(centered_position[1], centered_position[0])\n",
    "        r_s = np.linalg.norm(centered_position)\n",
    "        f = source.frq[0]\n",
    "        d = np.expand_dims(sfs_normalization * nfchoa_25d(a_s, r_s, a_l, r_l, f), axis=0)\n",
    "        region_of_interest.initialize()\n",
    "\n",
    "    else:\n",
    "        raise TypeError\n",
    "    return d"
   ]
  },
  {
   "cell_type": "code",
   "execution_count": null,
   "metadata": {},
   "outputs": [],
   "source": [
    "radius = 2.5\n",
    "lim = np.asarray([radius, 2 * radius])\n",
    "frequency = 343\n",
    "n_loudspeakers = 20\n",
    "position_y_map = {'NF': 3 * radius,\n",
    "                  'FS': 4 / 3 * radius\n",
    "                  }"
   ]
  },
  {
   "cell_type": "code",
   "execution_count": null,
   "metadata": {},
   "outputs": [],
   "source": [
    "method = 'SWEET'   # Options: SWEET, L2-PMM, WFS, NFC-HOA_SFS, NFC-HOA_MANUAL\n",
    "instance = 'FS' # Options: NF (near field), FS (focus source)"
   ]
  },
  {
   "cell_type": "code",
   "execution_count": null,
   "metadata": {},
   "outputs": [],
   "source": [
    "position = np.asarray([radius, position_y_map[instance]])\n",
    "normalization = np.linalg.norm(position - lim) if position[1] > 2 * radius + 1 else 1\n",
    "intensity = normalization * pressure(60)\n",
    "\n",
    "region_of_interest = CircleRegion(2500, 2 * radius, ratio=0.99)\n",
    "\n",
    "green_function = HRTF(frequency, reference=position) if method == 'SWEET' else Monopole(frequency)\n",
    "\n",
    "loudspeakers = CircleLoudspeakers(n_loud=n_loudspeakers,\n",
    "                                    diameter=2 * radius,\n",
    "                                    frequencies=frequency,\n",
    "                                    green_function=green_function)\n",
    "\n",
    "source = Source(frequencies=frequency,\n",
    "                positions=position,\n",
    "                intensities=intensity,\n",
    "                green_function=green_function)"
   ]
  },
  {
   "cell_type": "code",
   "execution_count": null,
   "metadata": {},
   "outputs": [],
   "source": [
    "print('Computing soultion. This might take a few minutes...')\n",
    "\n",
    "solution = get_solution(method=method,\n",
    "                        source=source,\n",
    "                        loudspeakers=loudspeakers,\n",
    "                        region_of_interest=region_of_interest)"
   ]
  },
  {
   "cell_type": "code",
   "execution_count": null,
   "metadata": {},
   "outputs": [],
   "source": [
    "n_side_points = 300\n",
    "green_function_pp = Monopole(source.frq)\n",
    "source.GF = green_function_pp\n",
    "loudspeakers.GF = green_function_pp\n",
    "pp = PostProcessing(solution, source, loudspeakers, region_of_interest,\n",
    "                    green_function=green_function_pp,\n",
    "                    n_points=n_side_points ** 2,\n",
    "                    r=1.2)\n",
    "u = pp.u(mask=False)\n",
    "u0 = pp.u0(mask=False)"
   ]
  }
 ],
 "metadata": {
  "kernelspec": {
   "display_name": "Python 3.8.10 64-bit",
   "language": "python",
   "name": "python3"
  },
  "language_info": {
   "codemirror_mode": {
    "name": "ipython",
    "version": 3
   },
   "file_extension": ".py",
   "mimetype": "text/x-python",
   "name": "python",
   "nbconvert_exporter": "python",
   "pygments_lexer": "ipython3",
   "version": "3.8.10"
  },
  "orig_nbformat": 4,
  "vscode": {
   "interpreter": {
    "hash": "916dbcbb3f70747c44a77c7bcd40155683ae19c65e1c03b4aa3499c5328201f1"
   }
  }
 },
 "nbformat": 4,
 "nbformat_minor": 2
}
